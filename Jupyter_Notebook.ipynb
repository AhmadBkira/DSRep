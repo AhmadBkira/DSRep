{
 "cells": [
  {
   "cell_type": "markdown",
   "metadata": {},
   "source": [
    "<center>\n",
    "    <img src=\"https://cf-courses-data.s3.us.cloud-object-storage.appdomain.cloud/IBMDeveloperSkillsNetwork-DS0105EN-SkillsNetwork/labs/Module2/images/SN_web_lightmode.png\" width=\"300\" alt=\"cognitiveclass.ai logo\">\n",
    "</center>\n"
   ]
  },
  {
   "cell_type": "markdown",
   "metadata": {},
   "source": [
    "#### Add your code below following the instructions given in the course\n"
   ]
  },
  {
   "cell_type": "markdown",
   "metadata": {},
   "source": [
    "Tools for Data Science Notebook"
   ]
  },
  {
   "cell_type": "markdown",
   "metadata": {},
   "source": [
    "This is a notebook that is for the purpose of the course \"Data Science tools\" created by a participant\n",
    "\n"
   ]
  },
  {
   "cell_type": "markdown",
   "metadata": {},
   "source": [
    "Data Science Languages: Python, R, CPP, SQL, Scala,Julia, Java. "
   ]
  },
  {
   "cell_type": "markdown",
   "metadata": {
    "tags": []
   },
   "source": [
    "Data Science libraries: Apache Spark, Scikit, Plotly, NumPy, Pandas, Matplotlib, ggplot2 and so on. "
   ]
  },
  {
   "cell_type": "markdown",
   "metadata": {
    "tags": []
   },
   "source": [
    "Data Science tools: J. Notebook, J. Lab, RStudio, SQL Databases, Apache Hadoop, Apache Spark, GitHub, \n"
   ]
  },
  {
   "cell_type": "markdown",
   "metadata": {},
   "source": [
    "Arithmetic Expression: 3+5\n"
   ]
  },
  {
   "cell_type": "code",
   "execution_count": 5,
   "metadata": {
    "tags": []
   },
   "outputs": [
    {
     "name": "stdout",
     "output_type": "stream",
     "text": [
      "3 12\n"
     ]
    }
   ],
   "source": [
    "def add(a,b):\n",
    "    return a+b\n",
    "def mult(a,b):\n",
    "    return a*b\n",
    "\n",
    "\n",
    "print(add(1,2),mult(3,4))"
   ]
  },
  {
   "cell_type": "code",
   "execution_count": 6,
   "metadata": {
    "tags": []
   },
   "outputs": [
    {
     "name": "stdout",
     "output_type": "stream",
     "text": [
      "26.666666666666668\n"
     ]
    }
   ],
   "source": [
    "def convToHours(min):\n",
    "    return (min/60)\n",
    "\n",
    "print(convToHours(1600))"
   ]
  },
  {
   "cell_type": "markdown",
   "metadata": {},
   "source": [
    "Objectives:\n",
    "- Create a markdown cell with the title of the notebook. (1 pt)\n",
    "\n",
    "- Create a markdown cell for an introduction. (1 pt)\n",
    "\n",
    "- Create a markdown cell to list data science languages. (3 pts)\n",
    "\n",
    "- Create a markdown cell to list data science libraries. (3 pts)\n",
    "\n",
    "- Create a markdown cell with a table of Data Science tools. (3 pts)\n",
    "\n",
    "- Create a markdown cell introducing arithmetic expression examples. (1 pt)\n",
    "\n",
    "- Create a code cell to multiply and add numbers. (2 pts)\n",
    "\n",
    "- Create a code cell to convert minutes to hours. (2 pts)\n",
    "\n",
    "- Insert a markdown cell to list Objectives. (3 pts)\n",
    "\n",
    "- Create a markdown cell to indicate the Author’s name. (2 pts)\n",
    "\n",
    "- Share your notebook through GitHub (3 pts)\n",
    "\n",
    "- Take a screenshot of the first page of the notebook. (1 pt)"
   ]
  },
  {
   "cell_type": "markdown",
   "metadata": {},
   "source": [
    "Author: Ahmad B"
   ]
  },
  {
   "cell_type": "code",
   "execution_count": null,
   "metadata": {},
   "outputs": [],
   "source": []
  }
 ],
 "metadata": {
  "kernelspec": {
   "display_name": "Python",
   "language": "python",
   "name": "conda-env-python-py"
  },
  "language_info": {
   "codemirror_mode": {
    "name": "ipython",
    "version": 3
   },
   "file_extension": ".py",
   "mimetype": "text/x-python",
   "name": "python",
   "nbconvert_exporter": "python",
   "pygments_lexer": "ipython3",
   "version": "3.7.12"
  }
 },
 "nbformat": 4,
 "nbformat_minor": 4
}
